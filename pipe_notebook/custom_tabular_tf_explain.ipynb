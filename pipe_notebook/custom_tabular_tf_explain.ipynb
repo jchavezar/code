{
 "cells": [
  {
   "cell_type": "code",
   "execution_count": 5,
   "metadata": {},
   "outputs": [
    {
     "name": "stdout",
     "output_type": "stream",
     "text": [
      "Python Version = 3.7.13 (default, Mar 29 2022, 02:18:16) \n",
      "[GCC 7.5.0]\n",
      "TensorFlow Version = 2.9.1\n",
      "TF_CONFIG = Not found\n",
      "Epoch 1/5\n"
     ]
    },
    {
     "name": "stderr",
     "output_type": "stream",
     "text": [
      "/home/jesusarguelles/miniconda3/envs/tensorflow/lib/python3.7/site-packages/ipykernel_launcher.py:18: DeprecationWarning: `np.float` is a deprecated alias for the builtin `float`. To silence this warning, use `float` by itself. Doing this will not modify any behavior and is safe. If you specifically wanted the numpy scalar type, use `np.float64` here.\n",
      "Deprecated in NumPy 1.20; for more details and guidance: https://numpy.org/devdocs/release/1.20.0-notes.html#deprecations\n"
     ]
    },
    {
     "name": "stdout",
     "output_type": "stream",
     "text": [
      "26/26 [==============================] - 1s 2ms/step - loss: 28100.8125\n",
      "Epoch 2/5\n",
      "26/26 [==============================] - 0s 2ms/step - loss: 694.7755\n",
      "Epoch 3/5\n",
      "26/26 [==============================] - 0s 2ms/step - loss: 677.9030\n",
      "Epoch 4/5\n",
      "26/26 [==============================] - 0s 2ms/step - loss: 238.4257\n",
      "Epoch 5/5\n",
      "26/26 [==============================] - 0s 2ms/step - loss: 135.5316\n",
      "INFO:tensorflow:Assets written to: /home/jesusarguelles/code/vertex-gpu/pipe_notebook/models/assets\n"
     ]
    }
   ],
   "source": [
    "import tensorflow_datasets as tfds\n",
    "import tensorflow as tf\n",
    "from tensorflow.python.client import device_lib\n",
    "import numpy as np\n",
    "import os\n",
    "import sys\n",
    "tfds.disable_progress_bar()\n",
    "\n",
    "print('Python Version = {}'.format(sys.version))\n",
    "print('TensorFlow Version = {}'.format(tf.__version__))\n",
    "print('TF_CONFIG = {}'.format(os.environ.get('TF_CONFIG', 'Not found')))\n",
    "\n",
    "def make_dataset():\n",
    "\n",
    "  # Scaling Boston Housing data features\n",
    "  def scale(feature):\n",
    "    max = np.max(feature)\n",
    "    feature = (feature / max).astype(np.float)\n",
    "    return feature, max\n",
    "\n",
    "  (x_train, y_train), (x_test, y_test) = tf.keras.datasets.boston_housing.load_data(\n",
    "    path=\"boston_housing.npz\", test_split=0.2, seed=113\n",
    "  )\n",
    "  params = []\n",
    "  for _ in range(13):\n",
    "    x_train[_], max = scale(x_train[_])\n",
    "    x_test[_], _ = scale(x_test[_])\n",
    "    params.append(max)\n",
    "\n",
    "  # store the normalization (max) value for each feature\n",
    "  with tf.io.gfile.GFile('/tmp/param.txt', 'w') as f:\n",
    "    f.write(str(params))\n",
    "  return (x_train, y_train), (x_test, y_test)\n",
    "\n",
    "\n",
    "# Build the Keras model\n",
    "def build_and_compile_dnn_model():\n",
    "  model = tf.keras.Sequential([\n",
    "      tf.keras.layers.Dense(128, activation='relu', input_shape=(13,)),\n",
    "      tf.keras.layers.Dense(128, activation='relu'),\n",
    "      tf.keras.layers.Dense(1, activation='linear')\n",
    "  ])\n",
    "  model.compile(\n",
    "      loss='mse',\n",
    "      optimizer=tf.keras.optimizers.RMSprop(learning_rate=0.01))\n",
    "  return model\n",
    "\n",
    "NUM_WORKERS = 1\n",
    "BATCH_SIZE = 16\n",
    "GLOBAL_BATCH_SIZE = BATCH_SIZE * NUM_WORKERS\n",
    "\n",
    "model = build_and_compile_dnn_model()\n",
    "\n",
    "# Train the model\n",
    "(x_train, y_train), (x_test, y_test) = make_dataset()\n",
    "model.fit(x_train, y_train, epochs=5, batch_size=GLOBAL_BATCH_SIZE)\n",
    "model.save('/home/jesusarguelles/code/vertex-gpu/pipe_notebook/models')"
   ]
  },
  {
   "cell_type": "code",
   "execution_count": 9,
   "metadata": {},
   "outputs": [
    {
     "name": "stdout",
     "output_type": "stream",
     "text": [
      "13/13 [==============================] - 0s 774us/step\n"
     ]
    },
    {
     "data": {
      "text/plain": [
       "array([17.222773], dtype=float32)"
      ]
     },
     "execution_count": 9,
     "metadata": {},
     "output_type": "execute_result"
    }
   ],
   "source": [
    "model.predict(x_train)[-1]"
   ]
  },
  {
   "cell_type": "code",
   "execution_count": 10,
   "metadata": {},
   "outputs": [
    {
     "data": {
      "text/plain": [
       "29.1"
      ]
     },
     "execution_count": 10,
     "metadata": {},
     "output_type": "execute_result"
    }
   ],
   "source": [
    "y_train[-1]"
   ]
  },
  {
   "cell_type": "code",
   "execution_count": 14,
   "metadata": {},
   "outputs": [
    {
     "name": "stdout",
     "output_type": "stream",
     "text": [
      "13/13 [==============================] - 0s 578us/step\n"
     ]
    },
    {
     "data": {
      "text/plain": [
       "113.73742764049464"
      ]
     },
     "execution_count": 14,
     "metadata": {},
     "output_type": "execute_result"
    }
   ],
   "source": [
    "import numpy as np\n",
    "\n",
    "mse=np.sum(np.power(y_train-model.predict(x_train).reshape(x_train.shape[0],),2))/y_train.shape[0]\n",
    "mse"
   ]
  },
  {
   "cell_type": "code",
   "execution_count": 16,
   "metadata": {},
   "outputs": [],
   "source": [
    "loaded = tf.saved_model.load('models/')"
   ]
  },
  {
   "cell_type": "code",
   "execution_count": 23,
   "metadata": {},
   "outputs": [
    {
     "data": {
      "text/plain": [
       "'dense_3_input'"
      ]
     },
     "execution_count": 23,
     "metadata": {},
     "output_type": "execute_result"
    }
   ],
   "source": [
    "list(loaded.signatures['serving_default'].structured_input_signature[1].keys())[0]"
   ]
  },
  {
   "cell_type": "code",
   "execution_count": 22,
   "metadata": {},
   "outputs": [
    {
     "name": "stdout",
     "output_type": "stream",
     "text": [
      "Model: \"sequential_1\"\n",
      "_________________________________________________________________\n",
      " Layer (type)                Output Shape              Param #   \n",
      "=================================================================\n",
      " dense_3 (Dense)             (None, 128)               1792      \n",
      "                                                                 \n",
      " dense_4 (Dense)             (None, 128)               16512     \n",
      "                                                                 \n",
      " dense_5 (Dense)             (None, 1)                 129       \n",
      "                                                                 \n",
      "=================================================================\n",
      "Total params: 18,433\n",
      "Trainable params: 18,433\n",
      "Non-trainable params: 0\n",
      "_________________________________________________________________\n"
     ]
    }
   ],
   "source": [
    "model.summary()"
   ]
  },
  {
   "cell_type": "code",
   "execution_count": 46,
   "metadata": {},
   "outputs": [
    {
     "name": "stdout",
     "output_type": "stream",
     "text": [
      "Serving function input: dense_3_input\n",
      "Serving function output: dense_5\n"
     ]
    }
   ],
   "source": [
    "list(loaded.signatures['serving_default'].structured_input_signature[1].keys())[0]\n",
    "serving_input = list(\n",
    "    loaded.signatures[\"serving_default\"].structured_input_signature[1].keys()\n",
    ")[0]\n",
    "print(\"Serving function input:\", serving_input)\n",
    "serving_output = list(loaded.signatures[\"serving_default\"].structured_outputs.keys())[0]\n",
    "print(\"Serving function output:\", serving_output)"
   ]
  },
  {
   "cell_type": "code",
   "execution_count": 48,
   "metadata": {},
   "outputs": [
    {
     "name": "stdout",
     "output_type": "stream",
     "text": [
      "Model input name: dense_3_input\n",
      "Model output name: dense_5/BiasAdd:0\n"
     ]
    }
   ],
   "source": [
    "input_name = model.input.name\n",
    "print(\"Model input name:\", input_name)\n",
    "output_name = model.output.name\n",
    "print(\"Model output name:\", output_name)"
   ]
  },
  {
   "cell_type": "code",
   "execution_count": 49,
   "metadata": {},
   "outputs": [
    {
     "data": {
      "text/plain": [
       "<keras.engine.sequential.Sequential at 0x7fe8e0446090>"
      ]
     },
     "execution_count": 49,
     "metadata": {},
     "output_type": "execute_result"
    }
   ],
   "source": [
    "model"
   ]
  },
  {
   "cell_type": "code",
   "execution_count": 50,
   "metadata": {},
   "outputs": [
    {
     "data": {
      "text/plain": [
       "<tensorflow.python.saved_model.load.Loader._recreate_base_user_object.<locals>._UserObject at 0x7fe89ba9b510>"
      ]
     },
     "execution_count": 50,
     "metadata": {},
     "output_type": "execute_result"
    }
   ],
   "source": [
    "loaded"
   ]
  },
  {
   "cell_type": "code",
   "execution_count": 56,
   "metadata": {},
   "outputs": [
    {
     "data": {
      "text/plain": [
       "[<tf.Variable 'dense_3/kernel:0' shape=(13, 128) dtype=float32, numpy=\n",
       " array([[-0.03077333, -0.23708047, -0.21608256, ...,  0.0849395 ,\n",
       "          0.08794362, -0.13315007],\n",
       "        [-0.07570806, -0.14996772, -0.11492363, ..., -0.14895344,\n",
       "          0.10518547,  0.00861384],\n",
       "        [ 0.01414169,  0.09263313, -0.30166024, ..., -0.08057518,\n",
       "         -0.02716043, -0.06649391],\n",
       "        ...,\n",
       "        [ 0.17000103, -0.11387086, -0.24519397, ..., -0.01828994,\n",
       "          0.07408316,  0.00280151],\n",
       "        [-0.05510873, -0.22886766, -0.16724998, ...,  0.10359433,\n",
       "          0.09101723, -0.12015251],\n",
       "        [-0.20242287, -0.19052926, -0.32151076, ..., -0.28676498,\n",
       "          0.07626975, -0.16386399]], dtype=float32)>,\n",
       " <tf.Variable 'dense_3/bias:0' shape=(128,) dtype=float32, numpy=\n",
       " array([ 0.        , -0.03162277, -0.1164071 , -0.1208004 , -0.0562485 ,\n",
       "        -0.10173824,  0.01692398, -0.09291069, -0.05122419, -0.07119531,\n",
       "        -0.04242091, -0.03482908, -0.03199682,  0.        , -0.01233639,\n",
       "        -0.0822481 , -0.04450449, -0.13687089, -0.05562865, -0.12887363,\n",
       "         0.        , -0.06997064, -0.03964905,  0.        ,  0.        ,\n",
       "         0.        , -0.07868772,  0.14639272, -0.08142667, -0.06174363,\n",
       "         0.        , -0.01387061, -0.13844548,  0.        ,  0.        ,\n",
       "        -0.17460719, -0.05409446, -0.05240822, -0.06752286, -0.08938054,\n",
       "         0.        ,  0.        , -0.06316206, -0.0696305 , -0.03162261,\n",
       "        -0.12426519,  0.        , -0.10898786,  0.        , -0.06159666,\n",
       "        -0.15228179, -0.10963564, -0.08394177, -0.12853846, -0.10023551,\n",
       "        -0.04863018, -0.03016723, -0.04013214,  0.        , -0.1275395 ,\n",
       "         0.        , -0.0842745 , -0.06109463,  0.        ,  0.        ,\n",
       "        -0.0750891 , -0.02920671, -0.08349296, -0.02498353, -0.08726564,\n",
       "         0.        ,  0.        ,  0.        , -0.01846093, -0.05619329,\n",
       "        -0.1701239 ,  0.        , -0.11085495, -0.0524294 , -0.06402468,\n",
       "         0.        ,  0.        ,  0.        , -0.01325093, -0.07399605,\n",
       "        -0.14221415,  0.        ,  0.        , -0.04459559,  0.        ,\n",
       "        -0.03162276,  0.00709066,  0.02983276, -0.0242079 , -0.03162274,\n",
       "        -0.03686179, -0.06924977,  0.        ,  0.        , -0.03162261,\n",
       "        -0.11729239, -0.15154831, -0.00961149, -0.13994333, -0.06084019,\n",
       "        -0.07267436,  0.        ,  0.        ,  0.        ,  0.        ,\n",
       "        -0.01376051, -0.03162274, -0.01435735,  0.        , -0.00906879,\n",
       "        -0.16698804, -0.08631742,  0.        , -0.04926001, -0.00074878,\n",
       "        -0.07942887, -0.17017972,  0.        , -0.10653132,  0.        ,\n",
       "        -0.05722553, -0.06137547,  0.        ], dtype=float32)>,\n",
       " <tf.Variable 'dense_4/kernel:0' shape=(128, 128) dtype=float32, numpy=\n",
       " array([[-0.00326039, -0.13646707,  0.06827155, ...,  0.11214985,\n",
       "         -0.12019749, -0.14691402],\n",
       "        [-0.07862183, -0.04955902,  0.04901077, ...,  0.10080512,\n",
       "          0.10838442, -0.1112757 ],\n",
       "        [ 0.04520292,  0.04328704, -0.09593835, ..., -0.14196533,\n",
       "          0.08540193,  0.06835514],\n",
       "        ...,\n",
       "        [-0.02765574, -0.09590776,  0.10302322, ...,  0.03325343,\n",
       "         -0.1798865 , -0.13934211],\n",
       "        [-0.04753327,  0.01595618,  0.05427703, ..., -0.08309466,\n",
       "          0.02077369,  0.13746421],\n",
       "        [-0.00509065,  0.00739568, -0.10311566, ...,  0.11833669,\n",
       "         -0.14885135, -0.09218147]], dtype=float32)>,\n",
       " <tf.Variable 'dense_4/bias:0' shape=(128,) dtype=float32, numpy=\n",
       " array([ 0.10299146, -0.15599006, -0.01014166, -0.05925815,  0.31262743,\n",
       "         0.05709464,  0.07119823,  0.08601673,  0.09454886,  0.07826979,\n",
       "         0.11378146,  0.04294122,  0.10906717,  0.08118822, -0.11071666,\n",
       "        -0.12060463, -0.03162266, -0.11051957,  0.22528394, -0.03162276,\n",
       "         0.10707191,  0.0882079 , -0.05996745, -0.07588981, -0.04333469,\n",
       "        -0.03162277, -0.06323854, -0.03162255,  0.0985428 , -0.12809314,\n",
       "         0.07559515, -0.04678522, -0.16036233,  0.07721682, -0.03162275,\n",
       "        -0.03162276,  0.1001396 , -0.03162277, -0.14804225,  0.        ,\n",
       "        -0.05798022, -0.03162276,  0.1001504 ,  0.05167481, -0.0873719 ,\n",
       "         0.10316468, -0.05440307,  0.21433173, -0.05738476, -0.11883046,\n",
       "         0.10828625, -0.06238823, -0.14504158,  0.09929972, -0.02245616,\n",
       "        -0.03819232, -0.0534431 ,  0.12963812, -0.06622595,  0.1059055 ,\n",
       "         0.08938937,  0.10110637, -0.10233908,  0.05244708, -0.03162276,\n",
       "         0.1065491 , -0.13761348,  0.18054608, -0.0969877 ,  0.15698819,\n",
       "        -0.06492238, -0.04396241, -0.03162275,  0.10202778, -0.11619603,\n",
       "        -0.03352758, -0.01615083,  0.04070225, -0.060922  , -0.06928799,\n",
       "         0.13163462, -0.1137225 , -0.06322036,  0.4028073 , -0.03162276,\n",
       "        -0.04367596, -0.10202925,  0.        , -0.06073693, -0.10729701,\n",
       "        -0.05647574, -0.0156728 ,  0.06203073, -0.02509975, -0.03888273,\n",
       "        -0.1557277 , -0.11820225, -0.0632233 ,  0.09442602, -0.06269792,\n",
       "        -0.11783387,  0.00213152, -0.04517094, -0.06394219, -0.06319594,\n",
       "         0.11370394,  0.11696051, -0.11618929,  0.21332313,  0.04119827,\n",
       "         0.3211163 ,  0.0903185 , -0.06324542, -0.03162275, -0.03162274,\n",
       "         0.07290924,  0.08353004,  0.25506505, -0.03162276, -0.03530086,\n",
       "        -0.02237439, -0.03162277,  0.17690219, -0.05632073, -0.0316227 ,\n",
       "        -0.03162275, -0.10739944,  0.07202718], dtype=float32)>,\n",
       " <tf.Variable 'dense_5/kernel:0' shape=(128, 1) dtype=float32, numpy=\n",
       " array([[ 0.09667493],\n",
       "        [-0.00116341],\n",
       "        [-0.01983089],\n",
       "        [-0.00762178],\n",
       "        [ 0.00924461],\n",
       "        [ 0.11926581],\n",
       "        [ 0.02546958],\n",
       "        [ 0.1595548 ],\n",
       "        [ 0.11652458],\n",
       "        [ 0.02456232],\n",
       "        [ 0.16443567],\n",
       "        [ 0.00337667],\n",
       "        [ 0.19704337],\n",
       "        [ 0.03952984],\n",
       "        [ 0.00115644],\n",
       "        [ 0.00453626],\n",
       "        [-0.00937044],\n",
       "        [-0.16917974],\n",
       "        [ 0.07058547],\n",
       "        [ 0.02964416],\n",
       "        [ 0.1364083 ],\n",
       "        [ 0.159946  ],\n",
       "        [-0.02460838],\n",
       "        [-0.11640262],\n",
       "        [-0.05896084],\n",
       "        [ 0.08632117],\n",
       "        [ 0.12490101],\n",
       "        [ 0.02310424],\n",
       "        [ 0.07915612],\n",
       "        [-0.04948658],\n",
       "        [ 0.14745177],\n",
       "        [-0.21020561],\n",
       "        [-0.0841095 ],\n",
       "        [ 0.09155499],\n",
       "        [-0.10410526],\n",
       "        [-0.17224386],\n",
       "        [ 0.08404676],\n",
       "        [-0.12442149],\n",
       "        [ 0.00693812],\n",
       "        [ 0.1836878 ],\n",
       "        [-0.17078954],\n",
       "        [-0.06517515],\n",
       "        [ 0.1304891 ],\n",
       "        [ 0.12778208],\n",
       "        [-0.17627457],\n",
       "        [ 0.01805633],\n",
       "        [ 0.00970835],\n",
       "        [ 0.05697258],\n",
       "        [-0.02140803],\n",
       "        [-0.00704477],\n",
       "        [ 0.14588512],\n",
       "        [-0.09415806],\n",
       "        [-0.01169314],\n",
       "        [ 0.10040025],\n",
       "        [-0.1384432 ],\n",
       "        [-0.15997387],\n",
       "        [-0.04136262],\n",
       "        [ 0.16702126],\n",
       "        [-0.1666049 ],\n",
       "        [ 0.13277268],\n",
       "        [ 0.02438189],\n",
       "        [ 0.11244486],\n",
       "        [-0.08135393],\n",
       "        [ 0.03084679],\n",
       "        [-0.16294992],\n",
       "        [ 0.11379582],\n",
       "        [-0.01783205],\n",
       "        [ 0.1529344 ],\n",
       "        [-0.11485626],\n",
       "        [ 0.15505356],\n",
       "        [ 0.00927827],\n",
       "        [-0.13136548],\n",
       "        [-0.15739433],\n",
       "        [ 0.10022914],\n",
       "        [-0.07115234],\n",
       "        [-0.14363176],\n",
       "        [-0.01745159],\n",
       "        [ 0.01179371],\n",
       "        [ 0.00443401],\n",
       "        [-0.00679917],\n",
       "        [ 0.27084878],\n",
       "        [-0.11346307],\n",
       "        [-0.1286138 ],\n",
       "        [ 0.33883163],\n",
       "        [ 0.13636863],\n",
       "        [ 0.01096465],\n",
       "        [ 0.02192356],\n",
       "        [-0.08004792],\n",
       "        [-0.04589925],\n",
       "        [-0.01175972],\n",
       "        [-0.15449059],\n",
       "        [ 0.02686115],\n",
       "        [ 0.06232929],\n",
       "        [-0.00091743],\n",
       "        [-0.15163147],\n",
       "        [-0.06387228],\n",
       "        [-0.06600714],\n",
       "        [-0.12054802],\n",
       "        [ 0.1327371 ],\n",
       "        [ 0.00603052],\n",
       "        [-0.03077309],\n",
       "        [ 0.14992753],\n",
       "        [-0.10129388],\n",
       "        [-0.01243896],\n",
       "        [ 0.00804514],\n",
       "        [ 0.1304239 ],\n",
       "        [ 0.09507789],\n",
       "        [-0.11462046],\n",
       "        [ 0.10614303],\n",
       "        [-0.00090346],\n",
       "        [ 0.12936214],\n",
       "        [ 0.04743956],\n",
       "        [-0.06979197],\n",
       "        [-0.05080028],\n",
       "        [ 0.05910554],\n",
       "        [ 0.03760241],\n",
       "        [ 0.093845  ],\n",
       "        [ 0.06985899],\n",
       "        [ 0.10918224],\n",
       "        [-0.04035602],\n",
       "        [-0.01319175],\n",
       "        [-0.14933085],\n",
       "        [ 0.18905328],\n",
       "        [-0.1474518 ],\n",
       "        [-0.04384191],\n",
       "        [-0.050252  ],\n",
       "        [-0.09682934],\n",
       "        [-0.00581532]], dtype=float32)>,\n",
       " <tf.Variable 'dense_5/bias:0' shape=(1,) dtype=float32, numpy=array([0.1182654], dtype=float32)>]"
      ]
     },
     "execution_count": 56,
     "metadata": {},
     "output_type": "execute_result"
    }
   ],
   "source": [
    "model.weights"
   ]
  },
  {
   "cell_type": "code",
   "execution_count": null,
   "metadata": {},
   "outputs": [],
   "source": []
  }
 ],
 "metadata": {
  "kernelspec": {
   "display_name": "Python 3.7.13 ('tensorflow')",
   "language": "python",
   "name": "python3"
  },
  "language_info": {
   "codemirror_mode": {
    "name": "ipython",
    "version": 3
   },
   "file_extension": ".py",
   "mimetype": "text/x-python",
   "name": "python",
   "nbconvert_exporter": "python",
   "pygments_lexer": "ipython3",
   "version": "3.7.13"
  },
  "orig_nbformat": 4,
  "vscode": {
   "interpreter": {
    "hash": "ec89e24100c8ca00f439bc5e12890d368cf0c3feba00695f2e5a4a6dddd0c167"
   }
  }
 },
 "nbformat": 4,
 "nbformat_minor": 2
}
