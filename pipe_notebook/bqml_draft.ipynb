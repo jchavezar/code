{
 "cells": [
  {
   "cell_type": "code",
   "execution_count": 2,
   "metadata": {},
   "outputs": [],
   "source": [
    "%load_ext google.cloud.bigquery"
   ]
  },
  {
   "cell_type": "code",
   "execution_count": 17,
   "metadata": {},
   "outputs": [
    {
     "name": "stderr",
     "output_type": "stream",
     "text": [
      "Query complete after 0.00s: 100%|██████████| 3/3 [00:00<00:00, 2380.87query/s]                        \n",
      "Downloading: 100%|██████████| 13588/13588 [00:01<00:00, 9254.75rows/s]\n"
     ]
    },
    {
     "data": {
      "text/html": [
       "<div>\n",
       "<style scoped>\n",
       "    .dataframe tbody tr th:only-of-type {\n",
       "        vertical-align: middle;\n",
       "    }\n",
       "\n",
       "    .dataframe tbody tr th {\n",
       "        vertical-align: top;\n",
       "    }\n",
       "\n",
       "    .dataframe thead th {\n",
       "        text-align: right;\n",
       "    }\n",
       "</style>\n",
       "<table border=\"1\" class=\"dataframe\">\n",
       "  <thead>\n",
       "    <tr style=\"text-align: right;\">\n",
       "      <th></th>\n",
       "      <th>user_pseudo_id</th>\n",
       "      <th>user_first_engagement</th>\n",
       "      <th>user_last_engagement</th>\n",
       "      <th>month</th>\n",
       "      <th>julianday</th>\n",
       "      <th>dayofweek</th>\n",
       "      <th>ts_24hr_after_first_engagement</th>\n",
       "      <th>churned</th>\n",
       "      <th>bounced</th>\n",
       "    </tr>\n",
       "  </thead>\n",
       "  <tbody>\n",
       "    <tr>\n",
       "      <th>0</th>\n",
       "      <td>50D529BFD3EFEB1C8216DF9A321A552A</td>\n",
       "      <td>1535451530829009</td>\n",
       "      <td>1538609814876007</td>\n",
       "      <td>8</td>\n",
       "      <td>240</td>\n",
       "      <td>3</td>\n",
       "      <td>1535537930829009</td>\n",
       "      <td>0</td>\n",
       "      <td>0</td>\n",
       "    </tr>\n",
       "    <tr>\n",
       "      <th>1</th>\n",
       "      <td>137944D29FEB9F2C96187C5F6604F5DB</td>\n",
       "      <td>1532042482702018</td>\n",
       "      <td>1533178386830042</td>\n",
       "      <td>7</td>\n",
       "      <td>200</td>\n",
       "      <td>5</td>\n",
       "      <td>1532128882702018</td>\n",
       "      <td>0</td>\n",
       "      <td>0</td>\n",
       "    </tr>\n",
       "    <tr>\n",
       "      <th>2</th>\n",
       "      <td>8D86121A671969882C35F9E4C325EECE</td>\n",
       "      <td>1533892197036001</td>\n",
       "      <td>1538391613988044</td>\n",
       "      <td>8</td>\n",
       "      <td>222</td>\n",
       "      <td>6</td>\n",
       "      <td>1533978597036001</td>\n",
       "      <td>0</td>\n",
       "      <td>0</td>\n",
       "    </tr>\n",
       "    <tr>\n",
       "      <th>3</th>\n",
       "      <td>DA1F05090AB8762E28B7A27E0E4AFEE4</td>\n",
       "      <td>1535120174925006</td>\n",
       "      <td>1538402006318000</td>\n",
       "      <td>8</td>\n",
       "      <td>236</td>\n",
       "      <td>6</td>\n",
       "      <td>1535206574925006</td>\n",
       "      <td>0</td>\n",
       "      <td>0</td>\n",
       "    </tr>\n",
       "    <tr>\n",
       "      <th>4</th>\n",
       "      <td>67B3D12844D13C157D202B952EE9EA89</td>\n",
       "      <td>1535470505784011</td>\n",
       "      <td>1537382717683008</td>\n",
       "      <td>8</td>\n",
       "      <td>240</td>\n",
       "      <td>3</td>\n",
       "      <td>1535556905784011</td>\n",
       "      <td>0</td>\n",
       "      <td>0</td>\n",
       "    </tr>\n",
       "    <tr>\n",
       "      <th>...</th>\n",
       "      <td>...</td>\n",
       "      <td>...</td>\n",
       "      <td>...</td>\n",
       "      <td>...</td>\n",
       "      <td>...</td>\n",
       "      <td>...</td>\n",
       "      <td>...</td>\n",
       "      <td>...</td>\n",
       "      <td>...</td>\n",
       "    </tr>\n",
       "    <tr>\n",
       "      <th>13583</th>\n",
       "      <td>B6855B56FE0838DD2C78822AB08B3D02</td>\n",
       "      <td>1536769230810000</td>\n",
       "      <td>1536769445629002</td>\n",
       "      <td>9</td>\n",
       "      <td>255</td>\n",
       "      <td>4</td>\n",
       "      <td>1536855630810000</td>\n",
       "      <td>1</td>\n",
       "      <td>1</td>\n",
       "    </tr>\n",
       "    <tr>\n",
       "      <th>13584</th>\n",
       "      <td>512DAA6DE2804B4BB543D1BED5781189</td>\n",
       "      <td>1536736103606001</td>\n",
       "      <td>1536736252402000</td>\n",
       "      <td>9</td>\n",
       "      <td>255</td>\n",
       "      <td>4</td>\n",
       "      <td>1536822503606001</td>\n",
       "      <td>1</td>\n",
       "      <td>1</td>\n",
       "    </tr>\n",
       "    <tr>\n",
       "      <th>13585</th>\n",
       "      <td>C376FE9AC9D252C0445407FB97FA8CCD</td>\n",
       "      <td>1536761370590010</td>\n",
       "      <td>1536774089654017</td>\n",
       "      <td>9</td>\n",
       "      <td>255</td>\n",
       "      <td>4</td>\n",
       "      <td>1536847770590010</td>\n",
       "      <td>1</td>\n",
       "      <td>0</td>\n",
       "    </tr>\n",
       "    <tr>\n",
       "      <th>13586</th>\n",
       "      <td>86860125992009F7C7BC2944575FD219</td>\n",
       "      <td>1536744272944011</td>\n",
       "      <td>1536744783890001</td>\n",
       "      <td>9</td>\n",
       "      <td>255</td>\n",
       "      <td>4</td>\n",
       "      <td>1536830672944011</td>\n",
       "      <td>1</td>\n",
       "      <td>1</td>\n",
       "    </tr>\n",
       "    <tr>\n",
       "      <th>13587</th>\n",
       "      <td>06EE14F393C527E3A2BA2ECE805A92A1</td>\n",
       "      <td>1536746581884001</td>\n",
       "      <td>1536746775520010</td>\n",
       "      <td>9</td>\n",
       "      <td>255</td>\n",
       "      <td>4</td>\n",
       "      <td>1536832981884001</td>\n",
       "      <td>1</td>\n",
       "      <td>1</td>\n",
       "    </tr>\n",
       "  </tbody>\n",
       "</table>\n",
       "<p>13588 rows × 9 columns</p>\n",
       "</div>"
      ],
      "text/plain": [
       "                         user_pseudo_id  user_first_engagement  \\\n",
       "0      50D529BFD3EFEB1C8216DF9A321A552A       1535451530829009   \n",
       "1      137944D29FEB9F2C96187C5F6604F5DB       1532042482702018   \n",
       "2      8D86121A671969882C35F9E4C325EECE       1533892197036001   \n",
       "3      DA1F05090AB8762E28B7A27E0E4AFEE4       1535120174925006   \n",
       "4      67B3D12844D13C157D202B952EE9EA89       1535470505784011   \n",
       "...                                 ...                    ...   \n",
       "13583  B6855B56FE0838DD2C78822AB08B3D02       1536769230810000   \n",
       "13584  512DAA6DE2804B4BB543D1BED5781189       1536736103606001   \n",
       "13585  C376FE9AC9D252C0445407FB97FA8CCD       1536761370590010   \n",
       "13586  86860125992009F7C7BC2944575FD219       1536744272944011   \n",
       "13587  06EE14F393C527E3A2BA2ECE805A92A1       1536746581884001   \n",
       "\n",
       "       user_last_engagement  month  julianday  dayofweek  \\\n",
       "0          1538609814876007      8        240          3   \n",
       "1          1533178386830042      7        200          5   \n",
       "2          1538391613988044      8        222          6   \n",
       "3          1538402006318000      8        236          6   \n",
       "4          1537382717683008      8        240          3   \n",
       "...                     ...    ...        ...        ...   \n",
       "13583      1536769445629002      9        255          4   \n",
       "13584      1536736252402000      9        255          4   \n",
       "13585      1536774089654017      9        255          4   \n",
       "13586      1536744783890001      9        255          4   \n",
       "13587      1536746775520010      9        255          4   \n",
       "\n",
       "       ts_24hr_after_first_engagement  churned  bounced  \n",
       "0                    1535537930829009        0        0  \n",
       "1                    1532128882702018        0        0  \n",
       "2                    1533978597036001        0        0  \n",
       "3                    1535206574925006        0        0  \n",
       "4                    1535556905784011        0        0  \n",
       "...                               ...      ...      ...  \n",
       "13583                1536855630810000        1        1  \n",
       "13584                1536822503606001        1        1  \n",
       "13585                1536847770590010        1        0  \n",
       "13586                1536830672944011        1        1  \n",
       "13587                1536832981884001        1        1  \n",
       "\n",
       "[13588 rows x 9 columns]"
      ]
     },
     "execution_count": 17,
     "metadata": {},
     "output_type": "execute_result"
    }
   ],
   "source": [
    "%%bigquery --project jchavezar-demo\n",
    "\n",
    "WITH firstlasttouch AS (\n",
    "    SELECT\n",
    "        user_pseudo_id,\n",
    "        MIN(event_timestamp) AS user_first_engagement,\n",
    "        MAX(event_timestamp) AS user_last_engagement\n",
    "    FROM \n",
    "        `firebase-public-project.analytics_153293282.events_*`\n",
    "    WHERE \n",
    "        event_name='user_engagement'\n",
    "    GROUP BY\n",
    "        1\n",
    ")\n",
    "SELECT \n",
    "    user_pseudo_id,\n",
    "    user_first_engagement,\n",
    "    user_last_engagement,\n",
    "    EXTRACT(MONTH from TIMESTAMP_MICROS(user_first_engagement)) as month,\n",
    "    EXTRACT(DAYOFYEAR from TIMESTAMP_MICROS(user_first_engagement)) as julianday,\n",
    "    EXTRACT(DAYOFWEEK from TIMESTAMP_MICROS(user_first_engagement)) as dayofweek,\n",
    "    (user_first_engagement + 86400000000) AS ts_24hr_after_first_engagement,\n",
    "    IF(user_last_engagement < (user_first_engagement + 86400000000),1,0) AS churned,\n",
    "    IF(user_last_engagement < (user_first_engagement + 600000000),1,0) AS bounced\n",
    "FROM \n",
    "    firstlasttouch"
   ]
  },
  {
   "cell_type": "code",
   "execution_count": 18,
   "metadata": {},
   "outputs": [
    {
     "name": "stderr",
     "output_type": "stream",
     "text": [
      "Query complete after 0.00s: 100%|██████████| 4/4 [00:00<00:00, 4781.20query/s]                        \n",
      "Downloading: 100%|██████████| 13588/13588 [00:01<00:00, 9257.20rows/s]\n"
     ]
    }
   ],
   "source": [
    "%%bigquery df\n",
    "\n",
    "SELECT * FROM bqmlga4.returningusers\n"
   ]
  },
  {
   "cell_type": "code",
   "execution_count": 35,
   "metadata": {},
   "outputs": [
    {
     "data": {
      "text/plain": [
       "1    7440\n",
       "0    6148\n",
       "Name: churned, dtype: Int64"
      ]
     },
     "execution_count": 35,
     "metadata": {},
     "output_type": "execute_result"
    }
   ],
   "source": [
    "df['churned'].value_counts()"
   ]
  },
  {
   "cell_type": "code",
   "execution_count": 42,
   "metadata": {},
   "outputs": [
    {
     "name": "stderr",
     "output_type": "stream",
     "text": [
      "Query complete after 0.00s: 100%|██████████| 14/14 [00:00<00:00, 14541.92query/s]                      \n",
      "Downloading: 100%|██████████| 8031/8031 [00:01<00:00, 5678.76rows/s]\n"
     ]
    }
   ],
   "source": [
    "%%bigquery df_join\n",
    "\n",
    "SELECT\n",
    "    *\n",
    "FROM\n",
    "    bqmlga4.returningusers ret\n",
    "LEFT OUTER JOIN\n",
    "    bqmlga4.user_demographics dem\n",
    "ON ret.user_pseudo_id = dem.user_pseudo_id\n",
    "LEFT OUTER JOIN\n",
    "    bqmlga4.user_aggregate_behavior beh\n",
    "ON ret.user_pseudo_id = beh.user_pseudo_id\n",
    "WHERE\n",
    "    ret.bounced = 0"
   ]
  },
  {
   "cell_type": "code",
   "execution_count": 44,
   "metadata": {},
   "outputs": [
    {
     "data": {
      "text/plain": [
       "0    0.765534\n",
       "1    0.234466\n",
       "Name: churned, dtype: Float64"
      ]
     },
     "execution_count": 44,
     "metadata": {},
     "output_type": "execute_result"
    }
   ],
   "source": [
    "df_join['churned'].value_counts()/df_join['churned'].count()"
   ]
  },
  {
   "cell_type": "code",
   "execution_count": null,
   "metadata": {},
   "outputs": [],
   "source": []
  }
 ],
 "metadata": {
  "kernelspec": {
   "display_name": "Python 3.7.13 ('bqml')",
   "language": "python",
   "name": "python3"
  },
  "language_info": {
   "codemirror_mode": {
    "name": "ipython",
    "version": 3
   },
   "file_extension": ".py",
   "mimetype": "text/x-python",
   "name": "python",
   "nbconvert_exporter": "python",
   "pygments_lexer": "ipython3",
   "version": "3.7.13"
  },
  "orig_nbformat": 4,
  "vscode": {
   "interpreter": {
    "hash": "b3af98329724424edc4ce86146fba958527887ab5567e96021d09fc6962e9bb2"
   }
  }
 },
 "nbformat": 4,
 "nbformat_minor": 2
}
