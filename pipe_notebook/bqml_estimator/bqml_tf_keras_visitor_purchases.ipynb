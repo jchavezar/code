{
 "cells": [
  {
   "cell_type": "markdown",
   "metadata": {},
   "source": [
    "### Creating Tensorflow Estimator Class with Vertex AI"
   ]
  },
  {
   "cell_type": "code",
   "execution_count": 4,
   "metadata": {},
   "outputs": [],
   "source": [
    "PROJECT_ID = 'jchavezar-demo'\n",
    "NUM_NEURONS = 32\n",
    "L_RATE = 0.001\n",
    "EPOCHS = 10\n",
    "TRAIN_START_DATE = \"20160801\"\n",
    "TRAIN_END_DATE = \"20170430\""
   ]
  },
  {
   "cell_type": "code",
   "execution_count": 6,
   "metadata": {},
   "outputs": [],
   "source": [
    "from src import Estimator\n",
    "\n",
    "VertexTF = Estimator.VertexTF(\n",
    "    project_id=PROJECT_ID,\n",
    "    epochs=10\n",
    ")\n",
    "train, val, test = VertexTF.query(start_date=TRAIN_START_DATE, end_date=TRAIN_END_DATE)"
   ]
  },
  {
   "cell_type": "code",
   "execution_count": 7,
   "metadata": {},
   "outputs": [
    {
     "name": "stderr",
     "output_type": "stream",
     "text": [
      "2022-10-17 22:54:30.710971: I tensorflow/core/util/util.cc:169] oneDNN custom operations are on. You may see slightly different numerical results due to floating-point round-off errors from different computation orders. To turn them off, set the environment variable `TF_ENABLE_ONEDNN_OPTS=0`.\n",
      "2022-10-17 22:54:30.714029: W tensorflow/stream_executor/platform/default/dso_loader.cc:64] Could not load dynamic library 'libcudart.so.11.0'; dlerror: libcudart.so.11.0: cannot open shared object file: No such file or directory\n",
      "2022-10-17 22:54:30.714038: I tensorflow/stream_executor/cuda/cudart_stub.cc:29] Ignore above cudart dlerror if you do not have a GPU set up on your machine.\n",
      "/home/jesusarguelles/code/vertex-gpu/pipe_notebook/bqml_estimator/src/data/Transform.py:13: FutureWarning: Support for multi-dimensional indexing (e.g. `obj[:, None]`) is deprecated and will be removed in a future version.  Convert to a numpy array before indexing instead.\n",
      "  df = {key: value[:,tf.newaxis] for key, value in dataframe.items()}\n",
      "2022-10-17 22:54:31.772194: W tensorflow/stream_executor/platform/default/dso_loader.cc:64] Could not load dynamic library 'libcuda.so.1'; dlerror: libcuda.so.1: cannot open shared object file: No such file or directory\n",
      "2022-10-17 22:54:31.772215: W tensorflow/stream_executor/cuda/cuda_driver.cc:269] failed call to cuInit: UNKNOWN ERROR (303)\n",
      "2022-10-17 22:54:31.772230: I tensorflow/stream_executor/cuda/cuda_diagnostics.cc:156] kernel driver does not appear to be running on this host (jesusarguelles1): /proc/driver/nvidia/version does not exist\n",
      "2022-10-17 22:54:31.772447: I tensorflow/core/platform/cpu_feature_guard.cc:193] This TensorFlow binary is optimized with oneAPI Deep Neural Network Library (oneDNN) to use the following CPU instructions in performance-critical operations:  AVX2 AVX512F AVX512_VNNI FMA\n",
      "To enable them in other operations, rebuild TensorFlow with the appropriate compiler flags.\n"
     ]
    },
    {
     "name": "stdout",
     "output_type": "stream",
     "text": [
      "['source', 'medium', 'channelGrouping', 'deviceCategory', 'country']\n",
      "['latest_ecommerce_progress', 'bounces', 'time_on_site', 'pageviews']\n"
     ]
    }
   ],
   "source": [
    "## Prepare data by splitting, shuffling, transform to tensors, normalize and encode categorical values.\n",
    "\n",
    "train_ds, val_ds, test_ds = VertexTF.preprocessing(target_column='will_buy_on_return_visit')"
   ]
  },
  {
   "cell_type": "code",
   "execution_count": 8,
   "metadata": {},
   "outputs": [],
   "source": [
    "model = VertexTF.create_model(nn_input=NUM_NEURONS, lr=L_RATE)"
   ]
  },
  {
   "cell_type": "code",
   "execution_count": 6,
   "metadata": {},
   "outputs": [
    {
     "name": "stdout",
     "output_type": "stream",
     "text": [
      "Epoch 1/10\n"
     ]
    },
    {
     "name": "stderr",
     "output_type": "stream",
     "text": [
      "/home/jesusarguelles/miniconda3/envs/gcp/lib/python3.7/site-packages/keras/engine/functional.py:566: UserWarning: Input dict contained keys ['will_buy_on_return_visit', 'source', 'medium', 'channelGrouping', 'deviceCategory'] which did not match any model input. They will be ignored by the model.\n",
      "  inputs = self._flatten_to_reference_inputs(inputs)\n"
     ]
    },
    {
     "name": "stdout",
     "output_type": "stream",
     "text": [
      "14325/14325 [==============================] - 19s 1ms/step - loss: 0.0689 - accuracy: 0.9845 - val_loss: 0.0573 - val_accuracy: 0.9846\n",
      "Epoch 2/10\n",
      "14325/14325 [==============================] - 18s 1ms/step - loss: 0.0600 - accuracy: 0.9847 - val_loss: 0.0575 - val_accuracy: 0.9846\n",
      "Epoch 3/10\n",
      "14325/14325 [==============================] - 19s 1ms/step - loss: 0.0598 - accuracy: 0.9847 - val_loss: 0.0574 - val_accuracy: 0.9846\n",
      "Epoch 4/10\n",
      "14325/14325 [==============================] - 19s 1ms/step - loss: 0.0597 - accuracy: 0.9847 - val_loss: 0.0575 - val_accuracy: 0.9846\n",
      "Epoch 5/10\n",
      "14325/14325 [==============================] - 21s 1ms/step - loss: 0.0597 - accuracy: 0.9847 - val_loss: 0.0576 - val_accuracy: 0.9846\n",
      "Epoch 6/10\n",
      "14325/14325 [==============================] - 18s 1ms/step - loss: 0.0596 - accuracy: 0.9847 - val_loss: 0.0576 - val_accuracy: 0.9846\n",
      "Epoch 7/10\n",
      "14325/14325 [==============================] - 32s 2ms/step - loss: 0.0596 - accuracy: 0.9847 - val_loss: 0.0574 - val_accuracy: 0.9846\n",
      "Epoch 8/10\n",
      "14325/14325 [==============================] - 18s 1ms/step - loss: 0.0595 - accuracy: 0.9847 - val_loss: 0.0576 - val_accuracy: 0.9846\n",
      "Epoch 9/10\n",
      "14325/14325 [==============================] - 19s 1ms/step - loss: 0.0596 - accuracy: 0.9847 - val_loss: 0.0574 - val_accuracy: 0.9846\n",
      "Epoch 10/10\n",
      "14325/14325 [==============================] - 19s 1ms/step - loss: 0.0596 - accuracy: 0.9847 - val_loss: 0.0575 - val_accuracy: 0.9846\n"
     ]
    },
    {
     "data": {
      "text/plain": [
       "<keras.callbacks.History at 0x7f6ecc29c590>"
      ]
     },
     "execution_count": 6,
     "metadata": {},
     "output_type": "execute_result"
    }
   ],
   "source": [
    "model.fit(train_ds, epochs=EPOCHS, validation_data=val_ds)"
   ]
  },
  {
   "cell_type": "code",
   "execution_count": 7,
   "metadata": {},
   "outputs": [
    {
     "name": "stdout",
     "output_type": "stream",
     "text": [
      "1791/1791 [==============================] - 2s 993us/step - loss: 0.0586 - accuracy: 0.9847\n"
     ]
    }
   ],
   "source": [
    "loss, accuracy = model.evaluate(test_ds)"
   ]
  },
  {
   "cell_type": "code",
   "execution_count": 10,
   "metadata": {},
   "outputs": [
    {
     "data": {
      "text/plain": [
       "<AxesSubplot:>"
      ]
     },
     "execution_count": 10,
     "metadata": {},
     "output_type": "execute_result"
    },
    {
     "data": {
      "image/png": "[encoded data removed]",
      "text/plain": [
       "<Figure size 432x288 with 1 Axes>"
      ]
     },
     "metadata": {},
     "output_type": "display_data"
    }
   ],
   "source": [
    "train['will_buy_on_return_visit'].hist()"
   ]
  },
  {
   "cell_type": "code",
   "execution_count": 21,
   "metadata": {},
   "outputs": [
    {
     "data": {
      "text/plain": [
       "<AxesSubplot:>"
      ]
     },
     "execution_count": 21,
     "metadata": {},
     "output_type": "execute_result"
    },
    {
     "data": {
      "image/png": "[encoded data removed]",
      "text/plain": [
       "<Figure size 432x288 with 1 Axes>"
      ]
     },
     "metadata": {},
     "output_type": "display_data"
    }
   ],
   "source": [
    "train.boxplot(column='time_on_site', return_type='axes')"
   ]
  },
  {
   "cell_type": "code",
   "execution_count": null,
   "metadata": {},
   "outputs": [],
   "source": []
  }
 ],
 "metadata": {
  "kernelspec": {
   "display_name": "Python 3.7.13 ('gcp')",
   "language": "python",
   "name": "python3"
  },
  "language_info": {
   "codemirror_mode": {
    "name": "ipython",
    "version": 3
   },
   "file_extension": ".py",
   "mimetype": "text/x-python",
   "name": "python",
   "nbconvert_exporter": "python",
   "pygments_lexer": "ipython3",
   "version": "3.7.13"
  },
  "orig_nbformat": 4,
  "vscode": {
   "interpreter": {
    "hash": "61f821d259e852bb8dda541b337ba40be66c16e8431d3e97d4d2c7f8d54d4461"
   }
  }
 },
 "nbformat": 4,
 "nbformat_minor": 2
}
