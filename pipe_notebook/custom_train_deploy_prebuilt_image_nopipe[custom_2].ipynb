{
 "cells": [
  {
   "cell_type": "markdown",
   "metadata": {},
   "source": [
    "### Overview"
   ]
  },
  {
   "cell_type": "markdown",
   "metadata": {},
   "source": [
    "This is a quick excercise to train code using custom container and to predict using prebuilt models."
   ]
  },
  {
   "cell_type": "code",
   "execution_count": 6,
   "metadata": {},
   "outputs": [],
   "source": [
    "PROJECT_ID = 'jchavezar-demo'\n",
    "REGION = 'us-central1'\n",
    "IMAGE_URI=f\"{REGION}-docker.pkg.dev/{PROJECT_ID}/trainings/mpg:v1\"\n",
    "PREBUILT_PREDICTION_IMAGE_URI=f\"us-docker.pkg.dev/vertex-ai/prediction/tf2-cpu.2-6:latest\""
   ]
  },
  {
   "cell_type": "markdown",
   "metadata": {},
   "source": [
    "### Create work directry tree"
   ]
  },
  {
   "cell_type": "markdown",
   "metadata": {},
   "source": [
    "Tree should be like this:\n",
    "\n",
    "    .\n",
    "    ├── ..\n",
    "    ├── custom_2                    # Main folder for prediction\n",
    "    │   ├── Dockerfile              # Declarative file to build the container\n",
    "    │   ├── trainer                 # Workdir or folder for code\n",
    "    │       ├── train.py\n",
    "    └── ..."
   ]
  },
  {
   "cell_type": "code",
   "execution_count": 7,
   "metadata": {},
   "outputs": [],
   "source": [
    "!rm -fr custom_2\n",
    "!mkdir custom_2\n",
    "!mkdir custom_2/trainer"
   ]
  },
  {
   "cell_type": "markdown",
   "metadata": {},
   "source": [
    "### Create Dockerfile and Training Python File"
   ]
  },
  {
   "cell_type": "code",
   "execution_count": 8,
   "metadata": {},
   "outputs": [
    {
     "name": "stdout",
     "output_type": "stream",
     "text": [
      "Writing custom_2/Dockerfile\n"
     ]
    }
   ],
   "source": [
    "%%writefile custom_2/Dockerfile\n",
    "\n",
    "FROM gcr.io/deeplearning-platform-release/tf2-cpu.2-6\n",
    "WORKDIR /\n",
    "\n",
    "# Copies the trainer code to the docker image.\n",
    "COPY trainer /trainer\n",
    "\n",
    "# Sets up the entry point to invoke the trainer.\n",
    "ENTRYPOINT [\"python\", \"-m\", \"trainer.train\"]"
   ]
  },
  {
   "cell_type": "code",
   "execution_count": 9,
   "metadata": {},
   "outputs": [
    {
     "name": "stdout",
     "output_type": "stream",
     "text": [
      "Writing custom_2/trainer/train.py\n"
     ]
    }
   ],
   "source": [
    "%%writefile custom_2/trainer/train.py\n",
    "\n",
    "import numpy as np\n",
    "import pandas as pd\n",
    "import pathlib\n",
    "import os\n",
    "import tensorflow as tf\n",
    "import argparse\n",
    "from tensorflow import keras\n",
    "from tensorflow.keras import layers\n",
    "\n",
    "print(tf.__version__)\n",
    "\n",
    "\"\"\"## The Auto MPG dataset\n",
    "\n",
    "The dataset is available from the [UCI Machine Learning Repository](https://archive.ics.uci.edu/ml/).\n",
    "\n",
    "### Get the data\n",
    "First download the dataset.\n",
    "\"\"\"\n",
    "\n",
    "parser = argparse.ArgumentParser()\n",
    "parser.add_argument('--model-dir', dest='model_dir', default=os.getenv(\"AIP_MODEL_DIR\"), type=str, help='Model dir.')\n",
    "args = parser.parse_args()\n",
    "\n",
    "\n",
    "dataset_path = keras.utils.get_file(\"auto-mpg.data\", \"http://archive.ics.uci.edu/ml/machine-learning-databases/auto-mpg/auto-mpg.data\")\n",
    "dataset_path\n",
    "\n",
    "\"\"\"Import it using pandas\"\"\"\n",
    "\n",
    "column_names = ['MPG','Cylinders','Displacement','Horsepower','Weight',\n",
    "                'Acceleration', 'Model Year', 'Origin']\n",
    "dataset = pd.read_csv(dataset_path, names=column_names,\n",
    "                      na_values = \"?\", comment='\\t',\n",
    "                      sep=\" \", skipinitialspace=True)\n",
    "\n",
    "dataset.tail()\n",
    "\n",
    "# TODO: replace `your-gcs-bucket` with the name of the Storage bucket you created earlier\n",
    "BUCKET = args.model_dir\n",
    "\n",
    "\"\"\"### Clean the data\n",
    "\n",
    "The dataset contains a few unknown values.\n",
    "\"\"\"\n",
    "\n",
    "dataset.isna().sum()\n",
    "\n",
    "\"\"\"To keep this initial tutorial simple drop those rows.\"\"\"\n",
    "\n",
    "dataset = dataset.dropna()\n",
    "\n",
    "\"\"\"The `\"Origin\"` column is really categorical, not numeric. So convert that to a one-hot:\"\"\"\n",
    "\n",
    "dataset['Origin'] = dataset['Origin'].map({1: 'USA', 2: 'Europe', 3: 'Japan'})\n",
    "\n",
    "dataset = pd.get_dummies(dataset, prefix='', prefix_sep='')\n",
    "dataset.tail()\n",
    "\n",
    "\"\"\"### Split the data into train and test\n",
    "\n",
    "Now split the dataset into a training set and a test set.\n",
    "\n",
    "We will use the test set in the final evaluation of our model.\n",
    "\"\"\"\n",
    "\n",
    "train_dataset = dataset.sample(frac=0.8,random_state=0)\n",
    "test_dataset = dataset.drop(train_dataset.index)\n",
    "\n",
    "\"\"\"### Inspect the data\n",
    "\n",
    "Have a quick look at the joint distribution of a few pairs of columns from the training set.\n",
    "\n",
    "Also look at the overall statistics:\n",
    "\"\"\"\n",
    "\n",
    "train_stats = train_dataset.describe()\n",
    "train_stats.pop(\"MPG\")\n",
    "train_stats = train_stats.transpose()\n",
    "train_stats\n",
    "\n",
    "\"\"\"### Split features from labels\n",
    "\n",
    "Separate the target value, or \"label\", from the features. This label is the value that you will train the model to predict.\n",
    "\"\"\"\n",
    "\n",
    "train_labels = train_dataset.pop('MPG')\n",
    "test_labels = test_dataset.pop('MPG')\n",
    "\n",
    "\"\"\"### Normalize the data\n",
    "\n",
    "Look again at the `train_stats` block above and note how different the ranges of each feature are.\n",
    "\n",
    "It is good practice to normalize features that use different scales and ranges. Although the model *might* converge without feature normalization, it makes training more difficult, and it makes the resulting model dependent on the choice of units used in the input.\n",
    "\n",
    "Note: Although we intentionally generate these statistics from only the training dataset, these statistics will also be used to normalize the test dataset. We need to do that to project the test dataset into the same distribution that the model has been trained on.\n",
    "\"\"\"\n",
    "\n",
    "def norm(x):\n",
    "  return (x - train_stats['mean']) / train_stats['std']\n",
    "normed_train_data = norm(train_dataset)\n",
    "normed_test_data = norm(test_dataset)\n",
    "\n",
    "\"\"\"This normalized data is what we will use to train the model.\n",
    "\n",
    "Caution: The statistics used to normalize the inputs here (mean and standard deviation) need to be applied to any other data that is fed to the model, along with the one-hot encoding that we did earlier.  That includes the test set as well as live data when the model is used in production.\n",
    "\n",
    "## The model\n",
    "\n",
    "### Build the model\n",
    "\n",
    "Let's build our model. Here, we'll use a `Sequential` model with two densely connected hidden layers, and an output layer that returns a single, continuous value. The model building steps are wrapped in a function, `build_model`, since we'll create a second model, later on.\n",
    "\"\"\"\n",
    "\n",
    "def build_model():\n",
    "  model = keras.Sequential([\n",
    "    layers.Dense(64, activation='relu', input_shape=[len(train_dataset.keys())]),\n",
    "    layers.Dense(64, activation='relu'),\n",
    "    layers.Dense(1)\n",
    "  ])\n",
    "\n",
    "  optimizer = tf.keras.optimizers.RMSprop(0.001)\n",
    "\n",
    "  model.compile(loss='mse',\n",
    "                optimizer=optimizer,\n",
    "                metrics=['mae', 'mse'])\n",
    "  return model\n",
    "\n",
    "model = build_model()\n",
    "\n",
    "\"\"\"### Inspect the model\n",
    "\n",
    "Use the `.summary` method to print a simple description of the model\n",
    "\"\"\"\n",
    "\n",
    "model.summary()\n",
    "\n",
    "\"\"\"Now try out the model. Take a batch of `10` examples from the training data and call `model.predict` on it.\n",
    "\n",
    "It seems to be working, and it produces a result of the expected shape and type.\n",
    "\n",
    "### Train the model\n",
    "\n",
    "Train the model for 1000 epochs, and record the training and validation accuracy in the `history` object.\n",
    "\n",
    "Visualize the model's training progress using the stats stored in the `history` object.\n",
    "\n",
    "This graph shows little improvement, or even degradation in the validation error after about 100 epochs. Let's update the `model.fit` call to automatically stop training when the validation score doesn't improve. We'll use an *EarlyStopping callback* that tests a training condition for  every epoch. If a set amount of epochs elapses without showing improvement, then automatically stop the training.\n",
    "\n",
    "You can learn more about this callback [here](https://www.tensorflow.org/api_docs/python/tf/keras/callbacks/EarlyStopping).\n",
    "\"\"\"\n",
    "\n",
    "model = build_model()\n",
    "\n",
    "EPOCHS = 1000\n",
    "\n",
    "# The patience parameter is the amount of epochs to check for improvement\n",
    "early_stop = keras.callbacks.EarlyStopping(monitor='val_loss', patience=10)\n",
    "\n",
    "early_history = model.fit(normed_train_data, train_labels, \n",
    "                    epochs=EPOCHS, validation_split = 0.2, \n",
    "                    callbacks=[early_stop])\n",
    "\n",
    "print(\"job_done\")\n",
    "print(f\"saving on {args.model_dir}\")\n",
    "# Export model and save to GCS\n",
    "model.save(BUCKET + '/mpg/model')"
   ]
  },
  {
   "cell_type": "markdown",
   "metadata": {},
   "source": [
    "### Build the docker container"
   ]
  },
  {
   "cell_type": "code",
   "execution_count": 10,
   "metadata": {},
   "outputs": [
    {
     "name": "stdout",
     "output_type": "stream",
     "text": [
      "Sending build context to Docker daemon  9.216kB\n",
      "Step 1/4 : FROM gcr.io/deeplearning-platform-release/tf2-cpu.2-6\n",
      " ---> a2a8733f4caa\n",
      "Step 2/4 : WORKDIR /\n",
      " ---> Using cache\n",
      " ---> ea351d920d2a\n",
      "Step 3/4 : COPY trainer /trainer\n",
      " ---> Using cache\n",
      " ---> ac87c401b7c6\n",
      "Step 4/4 : ENTRYPOINT [\"python\", \"-m\", \"trainer.train\"]\n",
      " ---> Using cache\n",
      " ---> baaca71f526c\n",
      "Successfully built baaca71f526c\n",
      "Successfully tagged us-central1-docker.pkg.dev/jchavezar-demo/trainings/mpg:v1\n"
     ]
    }
   ],
   "source": [
    "!docker build -t $IMAGE_URI custom_2/."
   ]
  },
  {
   "cell_type": "markdown",
   "metadata": {},
   "source": [
    "### Push the container to Google Cloud Artifacts"
   ]
  },
  {
   "cell_type": "code",
   "execution_count": 11,
   "metadata": {},
   "outputs": [
    {
     "name": "stdout",
     "output_type": "stream",
     "text": [
      "The push refers to repository [us-central1-docker.pkg.dev/jchavezar-demo/trainings/mpg]\n",
      "\n",
      "\u001b[1Bc68057a8: Preparing \n",
      "\u001b[1B4e054661: Preparing \n",
      "\u001b[1B067465ab: Preparing \n",
      "\u001b[1B01851389: Preparing \n",
      "\u001b[1B2e5f040e: Preparing \n",
      "\u001b[1B59dfa907: Preparing \n",
      "\u001b[1B668df2d8: Preparing \n",
      "\u001b[1B767a76ae: Preparing \n",
      "\u001b[1B559b3e11: Preparing \n",
      "\u001b[1Bc5f28369: Preparing \n",
      "\u001b[1Beeca4cbf: Preparing \n",
      "\u001b[1Bc2b66f65: Preparing \n",
      "\u001b[1B0bba959a: Preparing \n",
      "\u001b[1B677fbd36: Preparing \n",
      "\u001b[1B713472f0: Preparing \n",
      "\u001b[1B33654a88: Preparing \n",
      "\u001b[1Bbf18a086: Preparing \n",
      "\u001b[1B5cfc6aa2: Preparing \n",
      "\u001b[3Bbf18a086: Preparing \n",
      "\u001b[1B4b178955: Preparing \n",
      "\u001b[2B4b178955: Layer already exists \u001b[14A\u001b[2K\u001b[15A\u001b[2K\u001b[10A\u001b[2K\u001b[9A\u001b[2K\u001b[6A\u001b[2K\u001b[7A\u001b[2K\u001b[4A\u001b[2K\u001b[1A\u001b[2K\u001b[2A\u001b[2Kv1: digest: sha256:78f5a9829f1cfb94a62c747fe49240b397cb77038bc3385a2513f5d5cc62fcf2 size: 4918\n"
     ]
    }
   ],
   "source": [
    "!docker push $IMAGE_URI"
   ]
  },
  {
   "cell_type": "markdown",
   "metadata": {},
   "source": [
    "### Call Custom Container Training Job from AI Platform Library (Vertex AI) and Upload it to Model Registry"
   ]
  },
  {
   "cell_type": "code",
   "execution_count": 12,
   "metadata": {},
   "outputs": [
    {
     "name": "stdout",
     "output_type": "stream",
     "text": [
      "Training Output directory:\n",
      "gs://vtx-models/mpg \n",
      "View Training:\n",
      "https://console.cloud.google.com/ai/platform/locations/us-central1/training/6657772978991792128?project=569083142710\n",
      "View backing custom job:\n",
      "https://console.cloud.google.com/ai/platform/locations/us-central1/training/691101607051395072?project=569083142710\n",
      "CustomContainerTrainingJob projects/569083142710/locations/us-central1/trainingPipelines/6657772978991792128 current state:\n",
      "PipelineState.PIPELINE_STATE_RUNNING\n",
      "CustomContainerTrainingJob projects/569083142710/locations/us-central1/trainingPipelines/6657772978991792128 current state:\n",
      "PipelineState.PIPELINE_STATE_RUNNING\n",
      "CustomContainerTrainingJob projects/569083142710/locations/us-central1/trainingPipelines/6657772978991792128 current state:\n",
      "PipelineState.PIPELINE_STATE_RUNNING\n",
      "CustomContainerTrainingJob projects/569083142710/locations/us-central1/trainingPipelines/6657772978991792128 current state:\n",
      "PipelineState.PIPELINE_STATE_RUNNING\n",
      "CustomContainerTrainingJob projects/569083142710/locations/us-central1/trainingPipelines/6657772978991792128 current state:\n",
      "PipelineState.PIPELINE_STATE_RUNNING\n",
      "CustomContainerTrainingJob run completed. Resource name: projects/569083142710/locations/us-central1/trainingPipelines/6657772978991792128\n",
      "Model available at projects/569083142710/locations/us-central1/models/7554555278448918528\n"
     ]
    }
   ],
   "source": [
    "from google.cloud import aiplatform\n",
    "\n",
    "job = aiplatform.CustomContainerTrainingJob(\n",
    "    display_name = 'mpg-sdk-1',\n",
    "    container_uri = IMAGE_URI,\n",
    "    model_serving_container_image_uri = PREBUILT_PREDICTION_IMAGE_URI,\n",
    "    staging_bucket = 'gs://vtx-metadata'\n",
    ")\n",
    "\n",
    "model = job.run(\n",
    "    model_display_name = 'mpg-sdk-1',\n",
    "    is_default_version = False,\n",
    "    model_version_aliases = ['test1'],\n",
    "    base_output_dir = 'gs://vtx-models/mpg'\n",
    ")"
   ]
  },
  {
   "cell_type": "code",
   "execution_count": 13,
   "metadata": {},
   "outputs": [
    {
     "name": "stdout",
     "output_type": "stream",
     "text": [
      "<google.cloud.aiplatform.models.Model object at 0x7f6620fcc0d0> \n",
      "resource name: projects/569083142710/locations/us-central1/models/7554555278448918528\n"
     ]
    }
   ],
   "source": [
    "print(model)"
   ]
  },
  {
   "cell_type": "markdown",
   "metadata": {},
   "source": [
    "### Create the Endpoint where the model will live"
   ]
  },
  {
   "cell_type": "code",
   "execution_count": 16,
   "metadata": {},
   "outputs": [
    {
     "name": "stdout",
     "output_type": "stream",
     "text": [
      "Creating Endpoint\n",
      "Create Endpoint backing LRO: projects/569083142710/locations/us-central1/endpoints/5419158561773060096/operations/9172020789388509184\n",
      "Endpoint created. Resource name: projects/569083142710/locations/us-central1/endpoints/5419158561773060096\n",
      "To use this Endpoint in another session:\n",
      "endpoint = aiplatform.Endpoint('projects/569083142710/locations/us-central1/endpoints/5419158561773060096')\n"
     ]
    }
   ],
   "source": [
    "endpoint = aiplatform.Endpoint.create(\n",
    "    display_name=\"mpg-sdk-endpoint\",\n",
    "    labels={\n",
    "        \"endpoint\": \"miles_per_gallon\",\n",
    "        \"type\": \"custom_container\"\n",
    "        },\n",
    "\n",
    ")"
   ]
  },
  {
   "cell_type": "markdown",
   "metadata": {},
   "source": [
    "###  Deplot the model into the Endpoint"
   ]
  },
  {
   "cell_type": "code",
   "execution_count": 22,
   "metadata": {},
   "outputs": [
    {
     "name": "stdout",
     "output_type": "stream",
     "text": [
      "Deploying Model projects/569083142710/locations/us-central1/models/7554555278448918528 to Endpoint : projects/569083142710/locations/us-central1/endpoints/5419158561773060096\n",
      "Deploy Endpoint model backing LRO: projects/569083142710/locations/us-central1/endpoints/5419158561773060096/operations/8176725271739629568\n",
      "Endpoint model deployed. Resource name: projects/569083142710/locations/us-central1/endpoints/5419158561773060096\n"
     ]
    }
   ],
   "source": [
    "_model = aiplatform.Model.list(filter='display_name=\"mpg-sdk-1\"')[0]\n",
    "model = aiplatform.Model(\n",
    "    model_name=aiplatform.Model.list(filter='display_name=\"mpg-sdk-1\"')[0].resource_name,\n",
    "    version='test1')\n",
    "\n",
    "endpoint.deploy(\n",
    "    model=model,\n",
    "    min_replica_count=1,\n",
    "    machine_type=\"n1-standard-4\"\n",
    "\n",
    ")"
   ]
  },
  {
   "cell_type": "code",
   "execution_count": 51,
   "metadata": {},
   "outputs": [],
   "source": [
    "model = aiplatform.Model(\n",
    "    model_name=aiplatform.Model.list(filter='display_name=\"mpd-sdk-1\"')[0].resource_name,\n",
    "    version='test1')"
   ]
  },
  {
   "cell_type": "code",
   "execution_count": 31,
   "metadata": {},
   "outputs": [
    {
     "data": {
      "text/plain": [
       "'5419158561773060096'"
      ]
     },
     "execution_count": 31,
     "metadata": {},
     "output_type": "execute_result"
    }
   ],
   "source": [
    "aiplatform.Endpoint.list(filter='display_name=\"mpg-sdk-endpoint\"')[0].resource_name.split('/')[5]"
   ]
  },
  {
   "cell_type": "markdown",
   "metadata": {},
   "source": [
    "### List the Model and Predict"
   ]
  },
  {
   "cell_type": "code",
   "execution_count": 33,
   "metadata": {},
   "outputs": [],
   "source": [
    "ENDPOINT_ID=aiplatform.Endpoint.list(filter='display_name=\"mpg-sdk-endpoint\"')[0].resource_name.split('/')[5]\n",
    "PROJECT_ID=\"569083142710\"\n",
    "INPUT_DATA_FILE=\"INPUT-JSON\"\n",
    "\n",
    "endpoint = aiplatform.Endpoint(\n",
    "    endpoint_name=f\"projects/{PROJECT_ID}/locations/us-central1/endpoints/{ENDPOINT_ID}\"\n",
    ")"
   ]
  },
  {
   "cell_type": "code",
   "execution_count": 34,
   "metadata": {},
   "outputs": [
    {
     "name": "stdout",
     "output_type": "stream",
     "text": [
      "API response:  Prediction(predictions=[[16.1221714]], deployed_model_id='6209447937399848960', model_version_id='', model_resource_name='projects/569083142710/locations/us-central1/models/7554555278448918528', explanations=None)\n",
      "Predicted MPG:  16.1221714\n"
     ]
    }
   ],
   "source": [
    "test_mpg = [1.4838871833555929,\n",
    " 1.8659883497083019,\n",
    " 2.234620276849616,\n",
    " 1.0187816540094903,\n",
    " -2.530890710602246,\n",
    " -1.6046416850441676,\n",
    " -0.4651483719733302,\n",
    " -0.4952254087173721,\n",
    " 0.7746763768735953]\n",
    "\n",
    "response = endpoint.predict([test_mpg])\n",
    "\n",
    "print('API response: ', response)\n",
    "\n",
    "print('Predicted MPG: ', response.predictions[0][0])\n"
   ]
  },
  {
   "cell_type": "markdown",
   "metadata": {},
   "source": [
    "### Undeploy All the Models"
   ]
  },
  {
   "cell_type": "code",
   "execution_count": 40,
   "metadata": {},
   "outputs": [
    {
     "name": "stdout",
     "output_type": "stream",
     "text": [
      "Undeploying Endpoint model: projects/569083142710/locations/us-central1/endpoints/5759180333639532544\n",
      "Undeploy Endpoint model backing LRO: projects/569083142710/locations/us-central1/endpoints/5759180333639532544/operations/2006793782242050048\n",
      "Endpoint model undeployed. Resource name: projects/569083142710/locations/us-central1/endpoints/5759180333639532544\n"
     ]
    }
   ],
   "source": [
    "for i in aiplatform.Endpoint.list():\n",
    "    i.undeploy_all()"
   ]
  },
  {
   "cell_type": "code",
   "execution_count": null,
   "metadata": {},
   "outputs": [],
   "source": []
  }
 ],
 "metadata": {
  "kernelspec": {
   "display_name": "Python 3.7.13 ('gcp')",
   "language": "python",
   "name": "python3"
  },
  "language_info": {
   "codemirror_mode": {
    "name": "ipython",
    "version": 3
   },
   "file_extension": ".py",
   "mimetype": "text/x-python",
   "name": "python",
   "nbconvert_exporter": "python",
   "pygments_lexer": "ipython3",
   "version": "3.7.13"
  },
  "orig_nbformat": 4,
  "vscode": {
   "interpreter": {
    "hash": "61f821d259e852bb8dda541b337ba40be66c16e8431d3e97d4d2c7f8d54d4461"
   }
  }
 },
 "nbformat": 4,
 "nbformat_minor": 2
}
