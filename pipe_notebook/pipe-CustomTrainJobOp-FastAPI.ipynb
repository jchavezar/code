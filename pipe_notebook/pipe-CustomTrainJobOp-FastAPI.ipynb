{
 "cells": [
  {
   "cell_type": "markdown",
   "metadata": {},
   "source": [
    "## Exploratory Data Analysis"
   ]
  },
  {
   "cell_type": "code",
   "execution_count": 5,
   "metadata": {},
   "outputs": [
    {
     "data": {
      "image/png": "[encoded data removed]",
      "text/plain": [
       "<Figure size 1728x576 with 2 Axes>"
      ]
     },
     "metadata": {
      "needs_background": "light"
     },
     "output_type": "display_data"
    }
   ],
   "source": [
    "import pandas as pd\n",
    "import seaborn as sns\n",
    "import matplotlib.pyplot as plt\n",
    "from tensorflow import keras\n",
    "import warnings\n",
    "warnings.filterwarnings('ignore')\n",
    "\n",
    "dataset_path = keras.utils.get_file('auto-mpg.data', 'http://archive.ics.uci.edu/ml/machine-learning-databases/auto-mpg/auto-mpg.data')\n",
    "column_names = ['MPG','Cylinders','Displacement','Horsepower','Weight','Acceleration', 'Model Year', 'Origin']\n",
    "dataset = pd.read_csv(dataset_path, names=column_names, na_values = \"?\", comment='\\t',sep=\" \", skipinitialspace=True)\n",
    "\n",
    "plt.figure(figsize=(24,8))\n",
    "plt.subplot(1,2,1)\n",
    "t=sns.distplot(dataset['MPG'],label='Skewness: %.2f'%(dataset['MPG'].skew()) )\n",
    "t.legend()\n",
    "plt.subplot(1,2,2)\n",
    "sns.set_palette(sns.color_palette([\"#A0E8AF\"]))\n",
    "sns.boxplot(x=dataset['MPG'])\n",
    "plt.show()"
   ]
  },
  {
   "cell_type": "markdown",
   "metadata": {},
   "source": [
    "## Set Variables"
   ]
  },
  {
   "cell_type": "code",
   "execution_count": 128,
   "metadata": {},
   "outputs": [],
   "source": [
    "PROJECT_ID='jchavezar-demo' # Change it\n",
    "REGION='us-central1'\n",
    "TRAIN_IMAGE_URI=f'gcr.io/{PROJECT_ID}/custom_train:v1'\n",
    "PREDICT_IMAGE_URI=f'gcr.io/{PROJECT_ID}/custom_predict:v1'\n",
    "PIPELINE_ROOT_PATH='gs://vtx-root-path' # Change it\n",
    "AIP_STORAGE_URI='gs://vtx-artifacts'"
   ]
  },
  {
   "cell_type": "markdown",
   "metadata": {},
   "source": [
    "## Create Folder Structure"
   ]
  },
  {
   "cell_type": "code",
   "execution_count": 129,
   "metadata": {},
   "outputs": [],
   "source": [
    "!rm -fr custom_train_job\n",
    "!mkdir custom_train_job\n",
    "!mkdir custom_train_job/train\n",
    "!mkdir custom_train_job/prediction\n",
    "!touch custom_train_job/train/__init__.py\n",
    "!touch custom_train_job/prediction/__init__.py"
   ]
  },
  {
   "cell_type": "markdown",
   "metadata": {},
   "source": [
    "## Build Training Model code"
   ]
  },
  {
   "cell_type": "markdown",
   "metadata": {},
   "source": [
    "### Preprocessing for Training and Serving"
   ]
  },
  {
   "cell_type": "code",
   "execution_count": 130,
   "metadata": {},
   "outputs": [
    {
     "name": "stdout",
     "output_type": "stream",
     "text": [
      "Writing custom_train_job/train/preprocess.py\n"
     ]
    }
   ],
   "source": [
    "%%writefile custom_train_job/train/preprocess.py\n",
    "\n",
    "import os\n",
    "import sys\n",
    "import utils\n",
    "import pandas as pd\n",
    "\n",
    "\n",
    "data_uri = os.environ['AIP_STORAGE_URI']\n",
    "\n",
    "## Data Cleaning and Normalizating, exporting statistics.\n",
    "\n",
    "def train_pre_process(dataset):\n",
    "\n",
    "    # Cleaning data and doing transformations\n",
    "\n",
    "    dataset = dataset.dropna()\n",
    "    dataset['Origin'] = dataset['Origin'].map({1: 'USA', 2: 'Europe', 3: 'Japan'})\n",
    "    dataset = pd.get_dummies(dataset, prefix='', prefix_sep='')\n",
    "    \n",
    "    train_dataset = dataset.sample(frac=0.8, random_state=0)\n",
    "    test_dataset = dataset.drop(train_dataset.index)\n",
    "    \n",
    "    train_stats = train_dataset.describe()\n",
    "    train_stats.pop('MPG')\n",
    "    train_stats = train_stats.transpose()\n",
    "\n",
    "    # Storing stats for transformations in Google Cloud Storage\n",
    "\n",
    "    train_stats.to_csv(f'{data_uri}/mpg/stats.csv')\n",
    "    train_labels = train_dataset.pop('MPG')\n",
    "    test_labels = test_dataset.pop('MPG')\n",
    "    \n",
    "    def norm(x):\n",
    "        return (x - train_stats['mean'])/train_stats['std']\n",
    "    normed_train_data = norm(train_dataset)\n",
    "    normed_test_data = norm(test_dataset)\n",
    "\n",
    "    return normed_train_data, train_labels, normed_test_data, test_labels\n",
    "\n",
    "## Using training statistics to equals normalization.\n",
    "\n",
    "def pred_data_process(data: list):\n",
    "    column_names = ['Cylinders', 'Displacement', 'Horsepower', 'Weight', 'Acceleration', 'Model Year', 'Origin']\n",
    "    region_list = ['USA', 'Europe', 'Japan']\n",
    "    \n",
    "    dataset = pd.DataFrame([data], columns=column_names)\n",
    "    dataset = dataset.dropna()\n",
    "\n",
    "    for data in region_list:\n",
    "        if dataset['Origin'][0] == data:\n",
    "            dataset[data] = 1\n",
    "        else: dataset[data] = 0\n",
    "    \n",
    "    dataset = dataset.drop(columns=['Origin'])\n",
    "\n",
    "    ## Train stats\n",
    "    train_stats = pd.read_csv(f'{data_uri}/mpg/stats.csv', index_col=[0])\n",
    "    \n",
    "    def norm(x):\n",
    "        return (x - train_stats['mean'])/train_stats['std']\n",
    "    \n",
    "    return norm(dataset)"
   ]
  },
  {
   "cell_type": "code",
   "execution_count": 131,
   "metadata": {},
   "outputs": [],
   "source": [
    "!cp custom_train_job/train/preprocess.py custom_train_job/prediction/preprocess.py"
   ]
  },
  {
   "cell_type": "markdown",
   "metadata": {},
   "source": [
    "### Training Code"
   ]
  },
  {
   "cell_type": "code",
   "execution_count": 132,
   "metadata": {},
   "outputs": [
    {
     "name": "stdout",
     "output_type": "stream",
     "text": [
      "Writing custom_train_job/train/train.py\n"
     ]
    }
   ],
   "source": [
    "%%writefile custom_train_job/train/train.py\n",
    "\n",
    "import os\n",
    "import sys\n",
    "import tensorflow as tf\n",
    "from tensorflow import keras\n",
    "from tensorflow.keras import layers\n",
    "\n",
    "model_uri = os.environ['AIP_STORAGE_URI']\n",
    "\n",
    "def build_model(train_data):\n",
    "    model = keras.Sequential([\n",
    "        layers.Dense(64, activation='relu', input_shape=[len(train_data.keys())]),\n",
    "        layers.Dense(64, activation='relu'),\n",
    "        layers.Dense(1)\n",
    "    ])\n",
    "\n",
    "    optimizer = tf.keras.optimizers.RMSprop(0.001)\n",
    "    \n",
    "    model.compile(loss='mse',\n",
    "        optimizer=optimizer,\n",
    "        metrics=['mae', 'mse'])\n",
    "    \n",
    "    return model\n",
    "\n",
    "def train_model(train_data, train_labels, epochs: int = 1000):\n",
    "    \n",
    "    print('[INFO] ------ Building Model Layers', file=sys.stderr)\n",
    "    model = build_model(train_data)\n",
    "    epochs = epochs\n",
    "    \n",
    "    # The patience parameter is the amount of epochs to check for improvement\n",
    "    early_stop = keras.callbacks.EarlyStopping(monitor='val_loss', patience=10)\n",
    "    \n",
    "    print('[INFO] ------ Iterations / Training', file=sys.stderr)\n",
    "    early_history = model.fit(train_data, train_labels, \n",
    "        epochs=epochs, validation_split = 0.2, \n",
    "        callbacks=[early_stop])\n",
    "    \n",
    "    print('[INFO] ------ Saving Model', file=sys.stderr)\n",
    "    model.save(f'{model_uri}/mpg/model')\n",
    "\n",
    "    return model"
   ]
  },
  {
   "cell_type": "code",
   "execution_count": 133,
   "metadata": {},
   "outputs": [
    {
     "name": "stdout",
     "output_type": "stream",
     "text": [
      "Writing custom_train_job/train/main.py\n"
     ]
    }
   ],
   "source": [
    "%%writefile custom_train_job/train/main.py\n",
    "\n",
    "import sys\n",
    "import preprocess\n",
    "import train\n",
    "import pandas as pd\n",
    "from tensorflow import keras\n",
    "\n",
    "dataset_path = keras.utils.get_file(\"auto-mpg.data\", \"http://archive.ics.uci.edu/ml/machine-learning-databases/auto-mpg/auto-mpg.data\")\n",
    "column_names = ['MPG','Cylinders','Displacement','Horsepower','Weight','Acceleration', 'Model Year', 'Origin']\n",
    "dataset = pd.read_csv(dataset_path, names=column_names, na_values = \"?\", comment='\\t',sep=\" \", skipinitialspace=True)\n",
    "\n",
    "## Clean, Normalize and Split Data\n",
    "\n",
    "print('[INFO] ------ Preparing Data', file=sys.stderr)\n",
    "train_data, train_labels, test_data, test_labels = preprocess.train_pre_process(dataset)\n",
    "\n",
    "## Storing Artfifacts \n",
    "\n",
    "## Train model and save it in Google Cloud Storage\n",
    "\n",
    "print('[INFO] ------ Training Model', file=sys.stderr)\n",
    "train.train_model(train_data, train_labels)"
   ]
  },
  {
   "cell_type": "markdown",
   "metadata": {},
   "source": [
    "### Container Image"
   ]
  },
  {
   "cell_type": "code",
   "execution_count": 134,
   "metadata": {},
   "outputs": [
    {
     "name": "stdout",
     "output_type": "stream",
     "text": [
      "Writing custom_train_job/train/Dockerfile\n"
     ]
    }
   ],
   "source": [
    "%%writefile custom_train_job/train/Dockerfile\n",
    "\n",
    "FROM python:latest\n",
    "\n",
    "RUN python -m pip install --upgrade pip\n",
    "RUN pip install pandas gcsfs tensorflow\n",
    "COPY / /trainer\n",
    "\n",
    "CMD [\"python\", \"trainer/main.py\"]"
   ]
  },
  {
   "cell_type": "code",
   "execution_count": null,
   "metadata": {},
   "outputs": [],
   "source": [
    "!gcloud builds submit -t $TRAIN_IMAGE_URI custom_train_job/train/."
   ]
  },
  {
   "cell_type": "markdown",
   "metadata": {},
   "source": [
    "## Create Serving with Transformation"
   ]
  },
  {
   "cell_type": "code",
   "execution_count": 31,
   "metadata": {},
   "outputs": [
    {
     "name": "stdout",
     "output_type": "stream",
     "text": [
      "Overwriting custom_train_job/prediction/main.py\n"
     ]
    }
   ],
   "source": [
    "%%writefile custom_train_job/prediction/main.py\n",
    "\n",
    "from fastapi import Request, FastAPI\n",
    "import tensorflow as tf\n",
    "import json\n",
    "import os\n",
    "import preprocess\n",
    "import sys\n",
    "\n",
    "app = FastAPI()\n",
    "\n",
    "model_uri=os.environ['AIP_STORAGE_URI']\n",
    "print(f'[INFO] ------ {model_uri}', file=sys.stderr)\n",
    "model = tf.keras.models.load_model(f'{model_uri}/mpg/model')\n",
    "\n",
    "@app.get('/')\n",
    "def get_root():\n",
    "    return {'message': 'Welcome mpg API: miles per gallon prediction'}\n",
    "\n",
    "@app.get('/health_check')\n",
    "def health():\n",
    "    return 200\n",
    "\n",
    "if os.environ.get('AIP_PREDICT_ROUTE') is not None:\n",
    "    method = os.environ['AIP_PREDICT_ROUTE']\n",
    "else:\n",
    "    method = '/predict'\n",
    "\n",
    "@app.post(method)\n",
    "async def predict(request: Request):\n",
    "    print(\"----------------- PREDICTING -----------------\")\n",
    "    body = await request.json()\n",
    "    instances = body[\"instances\"]\n",
    "    norm_data = preprocess.pred_data_process(instances)\n",
    "    outputs = model.predict(norm_data)\n",
    "    response = outputs.tolist()\n",
    "    print(\"----------------- OUTPUTS -----------------\")\n",
    "    return {\"predictions\": response}"
   ]
  },
  {
   "cell_type": "markdown",
   "metadata": {},
   "source": [
    "## Container Image for Serving/Prediction"
   ]
  },
  {
   "cell_type": "code",
   "execution_count": 32,
   "metadata": {},
   "outputs": [
    {
     "name": "stdout",
     "output_type": "stream",
     "text": [
      "Overwriting custom_train_job/prediction/Dockerfile\n"
     ]
    }
   ],
   "source": [
    "%%writefile custom_train_job/prediction/Dockerfile\n",
    "\n",
    "FROM tiangolo/uvicorn-gunicorn-fastapi:python3.7\n",
    "\n",
    "COPY / /app\n",
    "WORKDIR /app\n",
    "RUN python -m pip install --upgrade pip\n",
    "RUN pip install pandas gcsfs tensorflow\n",
    "CMD [\"uvicorn\", \"main:app\", \"--host\", \"0.0.0.0\", \"--port\", \"8080\"]\n",
    "\n",
    "EXPOSE 8080"
   ]
  },
  {
   "cell_type": "code",
   "execution_count": null,
   "metadata": {},
   "outputs": [],
   "source": [
    "!gcloud builds submit -t $PREDICT_IMAGE_URI custom_train_job/prediction/."
   ]
  },
  {
   "cell_type": "markdown",
   "metadata": {},
   "source": [
    "## Create Pipeline"
   ]
  },
  {
   "cell_type": "code",
   "execution_count": 39,
   "metadata": {},
   "outputs": [],
   "source": [
    "## Training Worker Specs\n",
    "\n",
    "worker_pool_specs = [\n",
    "    {\n",
    "        \"machine_spec\": {\n",
    "            \"machine_type\": \"n1-standard-4\"\n",
    "        },\n",
    "        \"replica_count\": \"1\",\n",
    "        \"container_spec\": {\n",
    "            \"image_uri\": TRAIN_IMAGE_URI,\n",
    "            \"env\": [\n",
    "                {\n",
    "                    \"name\": \"AIP_STORAGE_URI\",\n",
    "                    \"value\": AIP_STORAGE_URI\n",
    "                },\n",
    "            ]\n",
    "        }\n",
    "    }\n",
    "]"
   ]
  },
  {
   "cell_type": "code",
   "execution_count": 40,
   "metadata": {},
   "outputs": [],
   "source": [
    "from kfp.v2.dsl import pipeline\n",
    "from kfp.v2.components import importer_node\n",
    "from google_cloud_pipeline_components import aiplatform as gcc\n",
    "from google_cloud_pipeline_components.types import artifact_types\n",
    "from google_cloud_pipeline_components.v1.custom_job import CustomTrainingJobOp\n",
    "\n",
    "@pipeline(name='custom-train')\n",
    "def pipeline(\n",
    "    project_id: str\n",
    "):\n",
    "    train_job = CustomTrainingJobOp(\n",
    "        project=project_id,\n",
    "        display_name='custom_train',\n",
    "        worker_pool_specs=worker_pool_specs\n",
    "    )\n",
    "    import_unmanaged_model_op = importer_node.importer(\n",
    "            artifact_uri=AIP_STORAGE_URI,\n",
    "            artifact_class=artifact_types.UnmanagedContainerModel,\n",
    "            metadata={\n",
    "                \"containerSpec\": {\n",
    "                    \"imageUri\": PREDICT_IMAGE_URI,\n",
    "                    \"env\": [\n",
    "                        {\n",
    "                            \"name\": \"PROJECT_ID\",\n",
    "                            \"value\": PROJECT_ID},\n",
    "                    ],\n",
    "                    \"predictRoute\": \"/predict\",\n",
    "                    \"healthRoute\": \"/health_check\",\n",
    "                    \"ports\": [\n",
    "                        {\n",
    "                            \"containerPort\": 8080\n",
    "                        }\n",
    "                    ]\n",
    "                },\n",
    "            },\n",
    "    ).after(train_job)\n",
    "    custom_model_upload_job = gcc.ModelUploadOp(\n",
    "        project=PROJECT_ID,\n",
    "        display_name=\"customjob-model\",\n",
    "        unmanaged_container_model=import_unmanaged_model_op.outputs[\"artifact\"],\n",
    "        ).after(import_unmanaged_model_op)\n",
    "    endpoint_create_job = gcc.EndpointCreateOp(\n",
    "        project=PROJECT_ID,\n",
    "        display_name=\"cutomjob-endpoint\",\n",
    "    )\n",
    "            \n",
    "    custom_model_deploy_job = (gcc.ModelDeployOp(\n",
    "        model=custom_model_upload_job.outputs[\"model\"],\n",
    "        endpoint=endpoint_create_job.outputs[\"endpoint\"],\n",
    "        deployed_model_display_name=\"cutomjob-deploy\",\n",
    "        traffic_split={\"0\":\"100\"},\n",
    "        dedicated_resources_machine_type=\"n1-standard-2\",\n",
    "        dedicated_resources_min_replica_count=1,\n",
    "        dedicated_resources_max_replica_count=1\n",
    "        )).set_caching_options(False)"
   ]
  },
  {
   "cell_type": "code",
   "execution_count": 41,
   "metadata": {},
   "outputs": [],
   "source": [
    "from kfp.v2 import compiler\n",
    "import warnings\n",
    "warnings.filterwarnings('ignore')\n",
    "\n",
    "compiler.Compiler().compile(pipeline_func=pipeline,\n",
    "        package_path='custom_train.json')"
   ]
  },
  {
   "cell_type": "code",
   "execution_count": 42,
   "metadata": {},
   "outputs": [
    {
     "name": "stdout",
     "output_type": "stream",
     "text": [
      "Creating PipelineJob\n",
      "PipelineJob created. Resource name: projects/569083142710/locations/us-central1/pipelineJobs/custom-train-20220907121011\n",
      "To use this PipelineJob in another session:\n",
      "pipeline_job = aiplatform.PipelineJob.get('projects/569083142710/locations/us-central1/pipelineJobs/custom-train-20220907121011')\n",
      "View Pipeline Job:\n",
      "https://console.cloud.google.com/vertex-ai/locations/us-central1/pipelines/runs/custom-train-20220907121011?project=569083142710\n"
     ]
    }
   ],
   "source": [
    "import google.cloud.aiplatform as aip\n",
    "\n",
    "job = aip.PipelineJob(\n",
    "    display_name=\"custom_train\",\n",
    "    template_path=\"custom_train.json\",\n",
    "    pipeline_root=PIPELINE_ROOT_PATH,\n",
    "    parameter_values={\n",
    "        \"project_id\": PROJECT_ID\n",
    "    },\n",
    ")\n",
    "\n",
    "job.submit()"
   ]
  },
  {
   "cell_type": "code",
   "execution_count": 72,
   "metadata": {},
   "outputs": [
    {
     "data": {
      "text/html": [
       "<div>\n",
       "<style scoped>\n",
       "    .dataframe tbody tr th:only-of-type {\n",
       "        vertical-align: middle;\n",
       "    }\n",
       "\n",
       "    .dataframe tbody tr th {\n",
       "        vertical-align: top;\n",
       "    }\n",
       "\n",
       "    .dataframe thead th {\n",
       "        text-align: right;\n",
       "    }\n",
       "</style>\n",
       "<table border=\"1\" class=\"dataframe\">\n",
       "  <thead>\n",
       "    <tr style=\"text-align: right;\">\n",
       "      <th></th>\n",
       "      <th>MPG</th>\n",
       "      <th>Cylinders</th>\n",
       "      <th>Displacement</th>\n",
       "      <th>Horsepower</th>\n",
       "      <th>Weight</th>\n",
       "      <th>Acceleration</th>\n",
       "      <th>Model Year</th>\n",
       "      <th>Origin</th>\n",
       "    </tr>\n",
       "  </thead>\n",
       "  <tbody>\n",
       "    <tr>\n",
       "      <th>0</th>\n",
       "      <td>18.0</td>\n",
       "      <td>8</td>\n",
       "      <td>307.0</td>\n",
       "      <td>130.0</td>\n",
       "      <td>3504.0</td>\n",
       "      <td>12.0</td>\n",
       "      <td>70</td>\n",
       "      <td>1</td>\n",
       "    </tr>\n",
       "    <tr>\n",
       "      <th>1</th>\n",
       "      <td>15.0</td>\n",
       "      <td>8</td>\n",
       "      <td>350.0</td>\n",
       "      <td>165.0</td>\n",
       "      <td>3693.0</td>\n",
       "      <td>11.5</td>\n",
       "      <td>70</td>\n",
       "      <td>1</td>\n",
       "    </tr>\n",
       "    <tr>\n",
       "      <th>2</th>\n",
       "      <td>18.0</td>\n",
       "      <td>8</td>\n",
       "      <td>318.0</td>\n",
       "      <td>150.0</td>\n",
       "      <td>3436.0</td>\n",
       "      <td>11.0</td>\n",
       "      <td>70</td>\n",
       "      <td>1</td>\n",
       "    </tr>\n",
       "    <tr>\n",
       "      <th>3</th>\n",
       "      <td>16.0</td>\n",
       "      <td>8</td>\n",
       "      <td>304.0</td>\n",
       "      <td>150.0</td>\n",
       "      <td>3433.0</td>\n",
       "      <td>12.0</td>\n",
       "      <td>70</td>\n",
       "      <td>1</td>\n",
       "    </tr>\n",
       "    <tr>\n",
       "      <th>4</th>\n",
       "      <td>17.0</td>\n",
       "      <td>8</td>\n",
       "      <td>302.0</td>\n",
       "      <td>140.0</td>\n",
       "      <td>3449.0</td>\n",
       "      <td>10.5</td>\n",
       "      <td>70</td>\n",
       "      <td>1</td>\n",
       "    </tr>\n",
       "  </tbody>\n",
       "</table>\n",
       "</div>"
      ],
      "text/plain": [
       "    MPG  Cylinders  Displacement  Horsepower  Weight  Acceleration  \\\n",
       "0  18.0          8         307.0       130.0  3504.0          12.0   \n",
       "1  15.0          8         350.0       165.0  3693.0          11.5   \n",
       "2  18.0          8         318.0       150.0  3436.0          11.0   \n",
       "3  16.0          8         304.0       150.0  3433.0          12.0   \n",
       "4  17.0          8         302.0       140.0  3449.0          10.5   \n",
       "\n",
       "   Model Year  Origin  \n",
       "0          70       1  \n",
       "1          70       1  \n",
       "2          70       1  \n",
       "3          70       1  \n",
       "4          70       1  "
      ]
     },
     "execution_count": 72,
     "metadata": {},
     "output_type": "execute_result"
    }
   ],
   "source": [
    "from tensorflow import keras\n",
    "import pandas as pd\n",
    "from custom_draft import preprocess\n",
    "from custom_draft import train\n",
    "import warnings\n",
    "warnings.filterwarnings('ignore')\n",
    "\n",
    "dataset_path = keras.utils.get_file(\"auto-mpg.data\", \"http://archive.ics.uci.edu/ml/machine-learning-databases/auto-mpg/auto-mpg.data\")\n",
    "column_names = ['MPG','Cylinders','Displacement','Horsepower','Weight','Acceleration', 'Model Year', 'Origin']\n",
    "dataset = pd.read_csv(dataset_path, names=column_names, na_values = \"?\", comment='\\t',sep=\" \", skipinitialspace=True)\n",
    "\n",
    "dataset.head()"
   ]
  }
 ],
 "metadata": {
  "kernelspec": {
   "display_name": "Python 3.7.13 ('gcp')",
   "language": "python",
   "name": "python3"
  },
  "language_info": {
   "codemirror_mode": {
    "name": "ipython",
    "version": 3
   },
   "file_extension": ".py",
   "mimetype": "text/x-python",
   "name": "python",
   "nbconvert_exporter": "python",
   "pygments_lexer": "ipython3",
   "version": "3.7.13"
  },
  "orig_nbformat": 4,
  "vscode": {
   "interpreter": {
    "hash": "61f821d259e852bb8dda541b337ba40be66c16e8431d3e97d4d2c7f8d54d4461"
   }
  }
 },
 "nbformat": 4,
 "nbformat_minor": 2
}
